{
 "cells": [
  {
   "cell_type": "markdown",
   "metadata": {},
   "source": [
    "# Importing the data"
   ]
  },
  {
   "cell_type": "code",
   "execution_count": 50,
   "metadata": {},
   "outputs": [],
   "source": [
    "import pandas as pd\n",
    "import re\n",
    "import matplotlib.pyplot as plt\n",
    "import seaborn as sns\n"
   ]
  },
  {
   "cell_type": "code",
   "execution_count": 51,
   "metadata": {},
   "outputs": [],
   "source": [
    "df_resume=pd.read_csv('raw_data/Data_Set_CV_Cleaned_version test.csv')\n",
    "df_resume.drop(['Unnamed: 0'],axis=1,inplace=True)\n",
    "df_resume=df_resume.rename(columns={'New_Category':'Category','CV_cleaned':'Resume'})\n",
    "df_resume.dropna(inplace=True)\n"
   ]
  },
  {
   "cell_type": "code",
   "execution_count": 52,
   "metadata": {},
   "outputs": [],
   "source": [
    "df_resume['lenght']=df_resume['Resume'].apply(len)"
   ]
  },
  {
   "cell_type": "code",
   "execution_count": 53,
   "metadata": {},
   "outputs": [
    {
     "data": {
      "text/plain": [
       "4977.59805873569"
      ]
     },
     "execution_count": 53,
     "metadata": {},
     "output_type": "execute_result"
    }
   ],
   "source": [
    "df_resume['lenght'].mean()\n"
   ]
  },
  {
   "cell_type": "code",
   "execution_count": 54,
   "metadata": {},
   "outputs": [
    {
     "data": {
      "text/plain": [
       "<AxesSubplot: xlabel='lenght', ylabel='Count'>"
      ]
     },
     "execution_count": 54,
     "metadata": {},
     "output_type": "execute_result"
    },
    {
     "data": {
      "image/png": "[encoded data removed]",
      "text/plain": [
       "<Figure size 640x480 with 1 Axes>"
      ]
     },
     "metadata": {},
     "output_type": "display_data"
    }
   ],
   "source": [
    "sns.histplot(df_resume['lenght'])"
   ]
  },
  {
   "cell_type": "code",
   "execution_count": 55,
   "metadata": {},
   "outputs": [],
   "source": [
    "df_resume=df_resume.drop_duplicates()\n"
   ]
  },
  {
   "cell_type": "code",
   "execution_count": 56,
   "metadata": {},
   "outputs": [],
   "source": [
    "df_resume_filtred=df_resume[df_resume['lenght']<10000]"
   ]
  },
  {
   "cell_type": "code",
   "execution_count": 57,
   "metadata": {},
   "outputs": [
    {
     "data": {
      "text/plain": [
       "(3071, 3)"
      ]
     },
     "execution_count": 57,
     "metadata": {},
     "output_type": "execute_result"
    }
   ],
   "source": [
    "df_resume_filtred.shape"
   ]
  },
  {
   "cell_type": "code",
   "execution_count": 59,
   "metadata": {},
   "outputs": [
    {
     "data": {
      "text/plain": [
       "Engineering and Construction        353\n",
       "Arts, Culture, and Entertainment    346\n",
       "Sales and Commerce                  345\n",
       "Finance and Accounting              342\n",
       "Health and Life Sciences            256\n",
       "Marketing and Communication         215\n",
       "Administration and Management       204\n",
       "Human Resources                     157\n",
       "Transport and Logistics             143\n",
       "Tourism and Hospitality             138\n",
       "Law and Legal                       131\n",
       "Education and Training              129\n",
       "Personal and Community Services     127\n",
       "Technology and IT                   114\n",
       "Science and Research                 71\n",
       "Name: Category, dtype: int64"
      ]
     },
     "execution_count": 59,
     "metadata": {},
     "output_type": "execute_result"
    }
   ],
   "source": [
    "df_resume_filtred['Category'].value_counts()"
   ]
  },
  {
   "cell_type": "markdown",
   "metadata": {},
   "source": [
    "# Dummy models"
   ]
  },
  {
   "cell_type": "code",
   "execution_count": 60,
   "metadata": {},
   "outputs": [],
   "source": [
    "#display the score\n",
    "resuls_dict = {'model': [], 'score': []}\n",
    "results_df = pd.DataFrame(resuls_dict)"
   ]
  },
  {
   "cell_type": "code",
   "execution_count": 61,
   "metadata": {},
   "outputs": [],
   "source": [
    "# Création d'un échantillon aléatoire de 20% du dataset complet\n",
    "sample_df = df_resume_filtred.sample(frac=0.2, random_state=42)\n",
    "full_df=df_resume_filtred"
   ]
  },
  {
   "cell_type": "markdown",
   "metadata": {},
   "source": [
    "## DummyClassifier from sklearn"
   ]
  },
  {
   "cell_type": "code",
   "execution_count": 62,
   "metadata": {},
   "outputs": [
    {
     "name": "stdout",
     "output_type": "stream",
     "text": [
      "Accuracy for strategy 'stratified': 0.08\n",
      "Accuracy for strategy 'most_frequent': 0.09\n",
      "Accuracy for strategy 'uniform': 0.06\n",
      "Accuracy for strategy 'prior': 0.09\n"
     ]
    },
    {
     "name": "stderr",
     "output_type": "stream",
     "text": [
      "/var/folders/p9/_030_tzn0cx_x11mkmfz6w800000gn/T/ipykernel_74075/2829911646.py:27: FutureWarning: The frame.append method is deprecated and will be removed from pandas in a future version. Use pandas.concat instead.\n",
      "  results_df = results_df.append(new_line, ignore_index=True)\n",
      "/var/folders/p9/_030_tzn0cx_x11mkmfz6w800000gn/T/ipykernel_74075/2829911646.py:27: FutureWarning: The frame.append method is deprecated and will be removed from pandas in a future version. Use pandas.concat instead.\n",
      "  results_df = results_df.append(new_line, ignore_index=True)\n",
      "/var/folders/p9/_030_tzn0cx_x11mkmfz6w800000gn/T/ipykernel_74075/2829911646.py:27: FutureWarning: The frame.append method is deprecated and will be removed from pandas in a future version. Use pandas.concat instead.\n",
      "  results_df = results_df.append(new_line, ignore_index=True)\n",
      "/var/folders/p9/_030_tzn0cx_x11mkmfz6w800000gn/T/ipykernel_74075/2829911646.py:27: FutureWarning: The frame.append method is deprecated and will be removed from pandas in a future version. Use pandas.concat instead.\n",
      "  results_df = results_df.append(new_line, ignore_index=True)\n"
     ]
    }
   ],
   "source": [
    "from sklearn.dummy import DummyClassifier\n",
    "from sklearn.metrics import accuracy_score\n",
    "from sklearn.model_selection import train_test_split\n",
    "\n",
    "# Division en deux set d'entraînement et de test sur tout le dataset\n",
    "X=full_df['Resume']\n",
    "y=full_df['Category']\n",
    "\n",
    "X_train, X_test, y_train, y_test = train_test_split(X, y, test_size=0.2, random_state=42)\n",
    "\n",
    "# Dictionnaire pour stocker les modèles avec différentes stratégies\n",
    "dummy_models = {}\n",
    "dummy_strategies = ['stratified', 'most_frequent', 'uniform', 'prior']\n",
    "\n",
    "\n",
    "for strategy in dummy_strategies:\n",
    "    dummy_model = DummyClassifier(strategy=strategy, random_state=42)\n",
    "    dummy_models[strategy] = dummy_model\n",
    "\n",
    "# Entraînez et évaluez les modèles\n",
    "for strategy, model in dummy_models.items():\n",
    "    model.fit(X_train, y_train)\n",
    "    predictions = model.predict(X_test)\n",
    "    accuracy = accuracy_score(y_test, predictions)\n",
    "    print(f\"Accuracy for strategy '{strategy}': {accuracy:.2f}\")\n",
    "    new_line = {'model': f\"DummyClassifier with '{strategy}' strategy\" , 'score': round(accuracy,2)}\n",
    "    results_df = results_df.append(new_line, ignore_index=True)"
   ]
  },
  {
   "cell_type": "markdown",
   "metadata": {},
   "source": [
    "## Logistic Regression Model TF-IDF "
   ]
  },
  {
   "cell_type": "code",
   "execution_count": 63,
   "metadata": {},
   "outputs": [
    {
     "name": "stdout",
     "output_type": "stream",
     "text": [
      "Accuracy: 0.6357723577235772\n",
      "Classification Report:\n",
      "                                   precision    recall  f1-score   support\n",
      "\n",
      "   Administration and Management       0.48      0.52      0.50        44\n",
      "Arts, Culture, and Entertainment       0.55      0.67      0.60        70\n",
      "          Education and Training       0.78      0.60      0.68        30\n",
      "    Engineering and Construction       0.63      0.73      0.67        78\n",
      "          Finance and Accounting       0.77      0.90      0.83        69\n",
      "        Health and Life Sciences       0.53      0.63      0.57        43\n",
      "                 Human Resources       0.90      0.82      0.86        34\n",
      "                   Law and Legal       0.71      0.48      0.57        25\n",
      "     Marketing and Communication       0.77      0.75      0.76        48\n",
      " Personal and Community Services       0.80      0.30      0.43        27\n",
      "              Sales and Commerce       0.51      0.71      0.60        56\n",
      "            Science and Research       0.67      0.12      0.20        17\n",
      "           Technology and IT           0.29      0.08      0.12        26\n",
      "         Tourism and Hospitality       0.95      0.83      0.88        23\n",
      "         Transport and Logistics       0.45      0.40      0.43        25\n",
      "\n",
      "                        accuracy                           0.64       615\n",
      "                       macro avg       0.65      0.57      0.58       615\n",
      "                    weighted avg       0.64      0.64      0.62       615\n",
      "\n"
     ]
    },
    {
     "name": "stderr",
     "output_type": "stream",
     "text": [
      "/var/folders/p9/_030_tzn0cx_x11mkmfz6w800000gn/T/ipykernel_74075/2292701346.py:32: FutureWarning: The frame.append method is deprecated and will be removed from pandas in a future version. Use pandas.concat instead.\n",
      "  results_df = results_df.append(new_line, ignore_index=True)\n"
     ]
    }
   ],
   "source": [
    "from sklearn.feature_extraction.text import TfidfVectorizer\n",
    "from sklearn.linear_model import LogisticRegression\n",
    "from sklearn.metrics import accuracy_score, classification_report\n",
    "from sklearn.model_selection import train_test_split\n",
    "\n",
    "# Division en deux set d'entraînement et de test sur tout le dataset\n",
    "X=full_df['Resume']\n",
    "y=full_df['Category']\n",
    "\n",
    "X_train, X_test, y_train, y_test = train_test_split(X, y, test_size=0.2, random_state=42)\n",
    "\n",
    "# Création d'une représentation TF-IDF des textes\n",
    "tfidf_vectorizer = TfidfVectorizer(max_features=5000)\n",
    "X_train_tfidf = tfidf_vectorizer.fit_transform(X_train)\n",
    "X_test_tfidf = tfidf_vectorizer.transform(X_test)\n",
    "\n",
    "# Entraînement\n",
    "logistic_regression_model = LogisticRegression(max_iter=500)\n",
    "logistic_regression_model.fit(X_train_tfidf, y_train)\n",
    "\n",
    "# Predict\n",
    "predictions = logistic_regression_model.predict(X_test_tfidf)\n",
    "\n",
    "# evaluation\n",
    "accuracy = accuracy_score(y_test, predictions)\n",
    "report = classification_report(y_test, predictions)\n",
    "\n",
    "print(\"Accuracy:\", accuracy)\n",
    "print(\"Classification Report:\\n\", report)\n",
    "\n",
    "new_line = {'model': \"LogisticRegression with TF-IDF\" , 'score': round(accuracy,2)}\n",
    "results_df = results_df.append(new_line, ignore_index=True)"
   ]
  },
  {
   "cell_type": "markdown",
   "metadata": {},
   "source": [
    "## Text Classification with TF-IDF and Random Forest Model"
   ]
  },
  {
   "cell_type": "code",
   "execution_count": 64,
   "metadata": {},
   "outputs": [
    {
     "name": "stdout",
     "output_type": "stream",
     "text": [
      "Accuracy: 0.5886178861788618\n"
     ]
    },
    {
     "name": "stderr",
     "output_type": "stream",
     "text": [
      "/var/folders/p9/_030_tzn0cx_x11mkmfz6w800000gn/T/ipykernel_74075/3273922763.py:32: FutureWarning: The frame.append method is deprecated and will be removed from pandas in a future version. Use pandas.concat instead.\n",
      "  results_df = results_df.append(new_line, ignore_index=True)\n"
     ]
    }
   ],
   "source": [
    "from sklearn.feature_extraction.text import TfidfVectorizer\n",
    "from sklearn.ensemble import RandomForestClassifier\n",
    "from sklearn.metrics import accuracy_score, classification_report\n",
    "from sklearn.model_selection import train_test_split\n",
    "\n",
    "# Division en deux set d'entraînement et de test sur tout le dataset\n",
    "X=full_df['Resume']\n",
    "y=full_df['Category']\n",
    "\n",
    "X_train, X_test, y_train, y_test = train_test_split(X, y, test_size=0.2, random_state=42)\n",
    "\n",
    "# Créer une représentation TF-IDF des textes\n",
    "tfidf_vectorizer = TfidfVectorizer(max_features=5000)\n",
    "X_train_tfidf = tfidf_vectorizer.fit_transform(X_train)\n",
    "X_test_tfidf = tfidf_vectorizer.transform(X_test)\n",
    "\n",
    "# Entraîner un modèle de forêt d'arbres décisionnels\n",
    "random_forest_model = RandomForestClassifier(n_estimators=100, random_state=42)\n",
    "random_forest_model.fit(X_train_tfidf, y_train)\n",
    "\n",
    "# Faire des prédictions sur l'ensemble de test\n",
    "predictions = random_forest_model.predict(X_test_tfidf)\n",
    "\n",
    "# Évaluer la performance du modèle\n",
    "accuracy = accuracy_score(y_test, predictions)\n",
    "report = classification_report(y_test, predictions)\n",
    "\n",
    "print(\"Accuracy:\", accuracy)\n",
    "#print(\"Classification Report:\\n\", report)\n",
    "\n",
    "new_line = {'model': \"RandomForestClassifier with TF-IDF\" , 'score': round(accuracy,2)}\n",
    "results_df = results_df.append(new_line, ignore_index=True)\n"
   ]
  },
  {
   "cell_type": "markdown",
   "metadata": {},
   "source": [
    "## Naive Baye Model\n"
   ]
  },
  {
   "cell_type": "code",
   "execution_count": 66,
   "metadata": {},
   "outputs": [
    {
     "name": "stdout",
     "output_type": "stream",
     "text": [
      "Accuracy: 0.5772357723577236\n",
      "\n",
      "Classification Report:\n",
      "                                   precision    recall  f1-score   support\n",
      "\n",
      "   Administration and Management       0.49      0.52      0.51        44\n",
      "Arts, Culture, and Entertainment       0.51      0.43      0.47        70\n",
      "          Education and Training       0.64      0.53      0.58        30\n",
      "    Engineering and Construction       0.64      0.69      0.67        78\n",
      "          Finance and Accounting       0.70      0.91      0.79        69\n",
      "        Health and Life Sciences       0.52      0.70      0.59        43\n",
      "                 Human Resources       0.96      0.74      0.83        34\n",
      "                   Law and Legal       0.50      0.40      0.44        25\n",
      "     Marketing and Communication       0.72      0.71      0.72        48\n",
      " Personal and Community Services       1.00      0.11      0.20        27\n",
      "              Sales and Commerce       0.38      0.64      0.47        56\n",
      "            Science and Research       0.50      0.12      0.19        17\n",
      "           Technology and IT           0.17      0.12      0.14        26\n",
      "         Tourism and Hospitality       0.95      0.78      0.86        23\n",
      "         Transport and Logistics       0.42      0.32      0.36        25\n",
      "\n",
      "                        accuracy                           0.58       615\n",
      "                       macro avg       0.61      0.51      0.52       615\n",
      "                    weighted avg       0.60      0.58      0.56       615\n",
      "\n"
     ]
    },
    {
     "name": "stderr",
     "output_type": "stream",
     "text": [
      "/var/folders/p9/_030_tzn0cx_x11mkmfz6w800000gn/T/ipykernel_74075/1945132640.py:28: FutureWarning: The frame.append method is deprecated and will be removed from pandas in a future version. Use pandas.concat instead.\n",
      "  results_df = results_df.append(new_line, ignore_index=True)\n"
     ]
    }
   ],
   "source": [
    "from sklearn.feature_extraction.text import CountVectorizer\n",
    "from sklearn.naive_bayes import MultinomialNB\n",
    "from sklearn.pipeline import make_pipeline\n",
    "from sklearn import metrics\n",
    "from sklearn.model_selection import train_test_split\n",
    "\n",
    "# Division en deux set d'entraînement et de test sur tout le dataset\n",
    "X=full_df['Resume']\n",
    "y=full_df['Category']\n",
    "\n",
    "X_train, X_test, y_train, y_test = train_test_split(X, y, test_size=0.2, random_state=42)\n",
    "\n",
    "\n",
    "# Créer le modèle Naive Bayes\n",
    "model = make_pipeline(CountVectorizer(), MultinomialNB())\n",
    "\n",
    "# Entraîner le modèle sur les données d'entraînement\n",
    "model.fit(X_train, y_train)\n",
    "\n",
    "# Prédire les étiquettes sur les données de test\n",
    "y_pred = model.predict(X_test)\n",
    "\n",
    "# Afficher les performances du modèle\n",
    "print(\"Accuracy:\", metrics.accuracy_score(y_test, y_pred))\n",
    "print(\"\\nClassification Report:\\n\", metrics.classification_report(y_test, y_pred))\n",
    "\n",
    "new_line = {'model': \"Naive Baye Model\" ,'score': round(metrics.accuracy_score(y_test, y_pred),2)}\n",
    "results_df = results_df.append(new_line, ignore_index=True)"
   ]
  },
  {
   "cell_type": "markdown",
   "metadata": {},
   "source": [
    "## Deep learning model"
   ]
  },
  {
   "cell_type": "code",
   "execution_count": 69,
   "metadata": {},
   "outputs": [
    {
     "name": "stdout",
     "output_type": "stream",
     "text": [
      "Epoch 1/1000\n",
      "18/77 [======>.......................] - ETA: 4:54 - loss: 2.6866 - accuracy: 0.0694"
     ]
    }
   ],
   "source": [
    "import tensorflow as tf\n",
    "from tensorflow.keras.models import Sequential\n",
    "from tensorflow.keras.layers import Embedding, Bidirectional, LSTM, Dense, Dropout\n",
    "from sklearn.preprocessing import LabelEncoder\n",
    "from tensorflow.keras.callbacks import EarlyStopping\n",
    "from sklearn.model_selection import train_test_split\n",
    "\n",
    "# Division en deux set d'entraînement et de test sur tout le dataset\n",
    "X=full_df['Resume']\n",
    "y=full_df['Category']\n",
    "\n",
    "# X=sample_df['Resume']\n",
    "# y=sample_df['Category']\n",
    "\n",
    "X_train, X_test, y_train, y_test = train_test_split(X, y, test_size=0.2, random_state=42)\n",
    "\n",
    "# Convert labels to integers\n",
    "label_encoder = LabelEncoder()\n",
    "y_labels = label_encoder.fit_transform(y)\n",
    "\n",
    "# Tokenizer to convert text into sequences of integers\n",
    "tokenizer = tf.keras.preprocessing.text.Tokenizer()\n",
    "tokenizer.fit_on_texts(X)\n",
    "X_seq = tokenizer.texts_to_sequences(X)\n",
    "\n",
    "#Padding to ensure all sequences have the same length\n",
    "max_len = 5000\n",
    "\n",
    "X_padded = tf.keras.preprocessing.sequence.pad_sequences(X_seq, padding='post', maxlen=max_len)\n",
    "\n",
    "# Create the model\n",
    "\n",
    "model = Sequential([\n",
    "    Embedding(input_dim=len(tokenizer.word_index) + 1, output_dim=50, input_length=max_len,mask_zero=True),\n",
    "    Bidirectional(LSTM(64, return_sequences=True)),\n",
    "    Dropout(0.5),\n",
    "    Bidirectional(LSTM(32)),\n",
    "    Dense(64, activation='relu'),\n",
    "    Dense(len(y.unique()), activation='softmax') # verfifier si len(y.unique() corresponds bien au nombre de categories.\n",
    "])\n",
    "\n",
    "# Compile the model\n",
    "model.compile(optimizer='adam', loss='sparse_categorical_crossentropy', metrics=['accuracy'])\n",
    "\n",
    "# Define early stopping callback\n",
    "early_stopping = EarlyStopping(monitor='val_loss', patience=3, restore_best_weights=True)\n",
    "\n",
    "# Train the model\n",
    "epochs=1000\n",
    "model.fit(X_padded, y_labels, epochs=epochs, validation_split=0.2, callbacks=[early_stopping])  # modifier le nombre d'epoch\n",
    "\n",
    "# Evaluate the model on the entire dataset\n",
    "test_loss, test_acc = model.evaluate(X_padded, y_labels)\n",
    "print(\"Accuracy on the entire dataset:\", test_acc)\n",
    "\n",
    "new_line = {'model': \"Neural Network model\" , 'score': round(test_acc,2)}\n",
    "results_df = results_df.append(new_line, ignore_index=True)\n"
   ]
  },
  {
   "cell_type": "markdown",
   "metadata": {},
   "source": [
    "## Pre Train model : BERT"
   ]
  },
  {
   "cell_type": "code",
   "execution_count": 30,
   "metadata": {},
   "outputs": [],
   "source": [
    "from transformers import TFAutoModelForSequenceClassification, AutoTokenizer\n",
    "import tensorflow as tf\n",
    "import pandas as pd\n",
    "import numpy as np\n",
    "from sklearn.model_selection import train_test_split\n",
    "from tensorflow.keras.callbacks import EarlyStopping\n",
    "from tensorflow.keras.optimizers.schedules import ExponentialDecay\n",
    "from tensorflow.keras.optimizers import legacy\n"
   ]
  },
  {
   "cell_type": "code",
   "execution_count": 22,
   "metadata": {},
   "outputs": [
    {
     "name": "stderr",
     "output_type": "stream",
     "text": [
      "huggingface/tokenizers: The current process just got forked, after parallelism has already been used. Disabling parallelism to avoid deadlocks...\n",
      "To disable this warning, you can either:\n",
      "\t- Avoid using `tokenizers` before the fork if possible\n",
      "\t- Explicitly set the environment variable TOKENIZERS_PARALLELISM=(true | false)\n"
     ]
    },
    {
     "data": {
      "application/vnd.jupyter.widget-view+json": {
       "model_id": "7043db59bd9c45a392a326d9468f1432",
       "version_major": 2,
       "version_minor": 0
      },
      "text/plain": [
       "config.json:   0%|          | 0.00/571 [00:00<?, ?B/s]"
      ]
     },
     "metadata": {},
     "output_type": "display_data"
    },
    {
     "data": {
      "application/vnd.jupyter.widget-view+json": {
       "model_id": "cac437f8a37842c3ab949562b5f3ed0a",
       "version_major": 2,
       "version_minor": 0
      },
      "text/plain": [
       "model.safetensors:   0%|          | 0.00/1.34G [00:00<?, ?B/s]"
      ]
     },
     "metadata": {},
     "output_type": "display_data"
    },
    {
     "name": "stderr",
     "output_type": "stream",
     "text": [
      "All PyTorch model weights were used when initializing TFBertForSequenceClassification.\n",
      "\n",
      "Some weights or buffers of the TF 2.0 model TFBertForSequenceClassification were not initialized from the PyTorch model and are newly initialized: ['classifier.weight', 'classifier.bias']\n",
      "You should probably TRAIN this model on a down-stream task to be able to use it for predictions and inference.\n"
     ]
    },
    {
     "data": {
      "application/vnd.jupyter.widget-view+json": {
       "model_id": "eda57c3917124938b62e5d471278086f",
       "version_major": 2,
       "version_minor": 0
      },
      "text/plain": [
       "tokenizer_config.json:   0%|          | 0.00/28.0 [00:00<?, ?B/s]"
      ]
     },
     "metadata": {},
     "output_type": "display_data"
    },
    {
     "data": {
      "application/vnd.jupyter.widget-view+json": {
       "model_id": "03616a365a494ae694a7aa459a6b43ad",
       "version_major": 2,
       "version_minor": 0
      },
      "text/plain": [
       "vocab.txt:   0%|          | 0.00/232k [00:00<?, ?B/s]"
      ]
     },
     "metadata": {},
     "output_type": "display_data"
    },
    {
     "data": {
      "application/vnd.jupyter.widget-view+json": {
       "model_id": "9029c9ca785b48179f541810d27ecd16",
       "version_major": 2,
       "version_minor": 0
      },
      "text/plain": [
       "tokenizer.json:   0%|          | 0.00/466k [00:00<?, ?B/s]"
      ]
     },
     "metadata": {},
     "output_type": "display_data"
    }
   ],
   "source": [
    "# Charger le modèle BERT\n",
    "# model_name = \"bert-base-uncased\"\n",
    "model_name = \"bert-large-uncased\"\n",
    "\n",
    "model = TFAutoModelForSequenceClassification.from_pretrained(model_name)\n",
    "tokenizer = AutoTokenizer.from_pretrained(model_name)"
   ]
  },
  {
   "cell_type": "code",
   "execution_count": 26,
   "metadata": {},
   "outputs": [],
   "source": [
    "#transforme les category en nombre\n",
    "labels_dict = {}\n",
    "for idx, label in enumerate(df_resume.Category.unique()):\n",
    "    labels_dict[label] = idx\n",
    "\n",
    "df_resume.Category = df_resume.Category.apply(func=lambda x: labels_dict[x])\n",
    "df_resume['Resume'].fillna('', inplace=True)\n",
    "\n",
    "sample_df = df_resume.sample(frac=0.1, random_state=42) #x% du dataset.\n",
    "#Division des données en ensembles d'entraînement, de validation et de test\n",
    "train_data, test_data = train_test_split(sample_df, test_size=0.2, random_state=42)\n",
    "train_data, val_data = train_test_split(train_data, test_size=0.2, random_state=42)\n"
   ]
  },
  {
   "cell_type": "code",
   "execution_count": 27,
   "metadata": {},
   "outputs": [],
   "source": [
    "#Tokenisation avec BERT\n",
    "# Charger le tokenizer BERT\n",
    "tokenizer = AutoTokenizer.from_pretrained(model_name)\n",
    "\n",
    "\n",
    "# Tokeniser les textes d'entraînement, de validation et de test\n",
    "max_length=100\n",
    "train_tokens = tokenizer(list(train_data['Resume']), truncation=True, padding=True, max_length=max_length, return_tensors=\"tf\")\n",
    "val_tokens = tokenizer(list(val_data['Resume']), truncation=True, padding=True, max_length=max_length, return_tensors=\"tf\")\n",
    "test_tokens = tokenizer(list(test_data['Resume']), truncation=True, padding=True, max_length=max_length, return_tensors=\"tf\")\n",
    "\n",
    "# Extraire les input_ids et attention_masks\n",
    "train_input_ids, train_attention_masks = train_tokens['input_ids'], train_tokens['attention_mask']\n",
    "val_input_ids, val_attention_masks = val_tokens['input_ids'], val_tokens['attention_mask']\n",
    "test_input_ids, test_attention_masks = test_tokens['input_ids'], test_tokens['attention_mask']\n"
   ]
  },
  {
   "cell_type": "code",
   "execution_count": 28,
   "metadata": {},
   "outputs": [],
   "source": [
    "# Modifier la structure de votre modèle en utilisant le modèle fonctionnel\n",
    "input_ids = tf.keras.layers.Input(shape=(max_length,), dtype=tf.int32, name=\"input_ids\")\n",
    "attention_mask = tf.keras.layers.Input(shape=(max_length,), dtype=tf.int32, name=\"attention_mask\")\n",
    "\n",
    "# Incorporer BERT dans votre modèle\n",
    "bert_output = model({'input_ids': input_ids, 'attention_mask': attention_mask}).logits\n",
    "\n",
    "# Ajouter la couche Dense pour la classification\n",
    "#output = tf.keras.layers.Dense(units=len(df_resume['Category'].unique()), activation='softmax')(bert_output)\n",
    "output = tf.keras.layers.Dense(units=len(df_resume['Category'].unique()), activation='softmax')(bert_output)\n",
    "\n",
    "# Créer le modèle fonctionnel\n",
    "classification_model = tf.keras.Model(inputs=[input_ids, attention_mask], outputs=output)\n",
    "\n",
    "# Définir le learning rate initial et la taille du batch\n",
    "initial_learning_rate = 1e-2\n",
    "batch_size = 32\n",
    "\n",
    "# Définir le plan d'apprentissage (learning schedule) avec une décroissance exponentielle\n",
    "lr_schedule = ExponentialDecay(\n",
    "    initial_learning_rate, decay_steps=len(train_data) // batch_size, decay_rate=0.9, staircase=True\n",
    ")\n"
   ]
  },
  {
   "cell_type": "code",
   "execution_count": 31,
   "metadata": {},
   "outputs": [],
   "source": [
    "# Compiler le modèle avec l'optimiseur utilisant le plan d'apprentissage\n",
    "classification_model.compile(\n",
    "    # optimizer=tf.keras.optimizers.Adam(learning_rate=lr_schedule),\n",
    "    optimizer = legacy.Adam(learning_rate=lr_schedule),\n",
    "    loss='sparse_categorical_crossentropy',\n",
    "    metrics=['accuracy']\n",
    ")"
   ]
  },
  {
   "cell_type": "code",
   "execution_count": 32,
   "metadata": {},
   "outputs": [],
   "source": [
    "# Définir l'arrêt précoce\n",
    "early_stopping = EarlyStopping(\n",
    "    monitor='val_loss',  # Surveiller la perte sur l'ensemble de validation\n",
    "    patience=2,           # Nombre d'époques sans amélioration avant l'arrêt\n",
    "    restore_best_weights=True  # Restaurer les meilleurs poids du modèle\n",
    ")"
   ]
  },
  {
   "cell_type": "code",
   "execution_count": 33,
   "metadata": {},
   "outputs": [
    {
     "name": "stdout",
     "output_type": "stream",
     "text": [
      "8/8 [==============================] - 721s 89s/step - loss: 3.8521 - accuracy: 0.0781 - val_loss: 3.4138 - val_accuracy: 0.0615\n"
     ]
    }
   ],
   "source": [
    "history = classification_model.fit(\n",
    "    {'input_ids': train_input_ids, 'attention_mask': train_attention_masks},\n",
    "    train_data['Category'].values,\n",
    "    epochs=1,\n",
    "    batch_size=32,\n",
    "    validation_data=({'input_ids': val_input_ids, 'attention_mask': val_attention_masks}, val_data['Category'].values)\n",
    ")\n"
   ]
  },
  {
   "cell_type": "code",
   "execution_count": 20,
   "metadata": {},
   "outputs": [
    {
     "name": "stdout",
     "output_type": "stream",
     "text": [
      "7/7 [==============================] - 25s 3s/step - loss: 2.7780 - accuracy: 0.0697\n",
      "Test Accuracy: 0.06965173780918121\n"
     ]
    },
    {
     "name": "stderr",
     "output_type": "stream",
     "text": [
      "/var/folders/p9/_030_tzn0cx_x11mkmfz6w800000gn/T/ipykernel_74075/747190639.py:10: FutureWarning: The frame.append method is deprecated and will be removed from pandas in a future version. Use pandas.concat instead.\n",
      "  results_df = results_df.append(new_line, ignore_index=True)\n"
     ]
    }
   ],
   "source": [
    "# Évaluer le modèle\n",
    "test_metrics = classification_model.evaluate(\n",
    "    {'input_ids': test_input_ids, 'attention_mask': test_attention_masks},\n",
    "    test_data['Category'].values\n",
    ")\n",
    "\n",
    "print(\"Test Accuracy:\", test_metrics[1])\n",
    "\n",
    "new_line = {'model': \"BERT pretrained model\" , 'score': round(test_metrics[1],2)}\n",
    "results_df = results_df.append(new_line, ignore_index=True)\n"
   ]
  },
  {
   "cell_type": "markdown",
   "metadata": {},
   "source": [
    "# Results"
   ]
  },
  {
   "cell_type": "code",
   "execution_count": 21,
   "metadata": {},
   "outputs": [
    {
     "data": {
      "text/html": [
       "<div>\n",
       "<style scoped>\n",
       "    .dataframe tbody tr th:only-of-type {\n",
       "        vertical-align: middle;\n",
       "    }\n",
       "\n",
       "    .dataframe tbody tr th {\n",
       "        vertical-align: top;\n",
       "    }\n",
       "\n",
       "    .dataframe thead th {\n",
       "        text-align: right;\n",
       "    }\n",
       "</style>\n",
       "<table border=\"1\" class=\"dataframe\">\n",
       "  <thead>\n",
       "    <tr style=\"text-align: right;\">\n",
       "      <th></th>\n",
       "      <th>model</th>\n",
       "      <th>score</th>\n",
       "    </tr>\n",
       "  </thead>\n",
       "  <tbody>\n",
       "    <tr>\n",
       "      <th>0</th>\n",
       "      <td>RandomForestClassifier with TF-IDF</td>\n",
       "      <td>0.68</td>\n",
       "    </tr>\n",
       "    <tr>\n",
       "      <th>1</th>\n",
       "      <td>LogisticRegression with TF-IDF</td>\n",
       "      <td>0.60</td>\n",
       "    </tr>\n",
       "    <tr>\n",
       "      <th>2</th>\n",
       "      <td>Naive Baye Model</td>\n",
       "      <td>0.58</td>\n",
       "    </tr>\n",
       "    <tr>\n",
       "      <th>3</th>\n",
       "      <td>Neural Network model</td>\n",
       "      <td>0.21</td>\n",
       "    </tr>\n",
       "    <tr>\n",
       "      <th>4</th>\n",
       "      <td>DummyClassifier with 'stratified' strategy</td>\n",
       "      <td>0.12</td>\n",
       "    </tr>\n",
       "    <tr>\n",
       "      <th>5</th>\n",
       "      <td>DummyClassifier with 'stratified' strategy</td>\n",
       "      <td>0.12</td>\n",
       "    </tr>\n",
       "    <tr>\n",
       "      <th>6</th>\n",
       "      <td>DummyClassifier with 'most_frequent' strategy</td>\n",
       "      <td>0.09</td>\n",
       "    </tr>\n",
       "    <tr>\n",
       "      <th>7</th>\n",
       "      <td>DummyClassifier with 'prior' strategy</td>\n",
       "      <td>0.09</td>\n",
       "    </tr>\n",
       "    <tr>\n",
       "      <th>8</th>\n",
       "      <td>DummyClassifier with 'most_frequent' strategy</td>\n",
       "      <td>0.09</td>\n",
       "    </tr>\n",
       "    <tr>\n",
       "      <th>9</th>\n",
       "      <td>DummyClassifier with 'prior' strategy</td>\n",
       "      <td>0.09</td>\n",
       "    </tr>\n",
       "    <tr>\n",
       "      <th>10</th>\n",
       "      <td>DummyClassifier with 'uniform' strategy</td>\n",
       "      <td>0.07</td>\n",
       "    </tr>\n",
       "    <tr>\n",
       "      <th>11</th>\n",
       "      <td>DummyClassifier with 'uniform' strategy</td>\n",
       "      <td>0.07</td>\n",
       "    </tr>\n",
       "    <tr>\n",
       "      <th>12</th>\n",
       "      <td>BERT pretrained model</td>\n",
       "      <td>0.07</td>\n",
       "    </tr>\n",
       "  </tbody>\n",
       "</table>\n",
       "</div>"
      ],
      "text/plain": [
       "                                            model  score\n",
       "0              RandomForestClassifier with TF-IDF   0.68\n",
       "1                  LogisticRegression with TF-IDF   0.60\n",
       "2                                Naive Baye Model   0.58\n",
       "3                            Neural Network model   0.21\n",
       "4      DummyClassifier with 'stratified' strategy   0.12\n",
       "5      DummyClassifier with 'stratified' strategy   0.12\n",
       "6   DummyClassifier with 'most_frequent' strategy   0.09\n",
       "7           DummyClassifier with 'prior' strategy   0.09\n",
       "8   DummyClassifier with 'most_frequent' strategy   0.09\n",
       "9           DummyClassifier with 'prior' strategy   0.09\n",
       "10        DummyClassifier with 'uniform' strategy   0.07\n",
       "11        DummyClassifier with 'uniform' strategy   0.07\n",
       "12                          BERT pretrained model   0.07"
      ]
     },
     "execution_count": 21,
     "metadata": {},
     "output_type": "execute_result"
    }
   ],
   "source": [
    "results_df = results_df.sort_values(by='score', ascending=False)\n",
    "results_df = results_df.reset_index(drop=True)\n",
    "results_df"
   ]
  },
  {
   "cell_type": "markdown",
   "metadata": {},
   "source": []
  },
  {
   "cell_type": "markdown",
   "metadata": {},
   "source": []
  }
 ],
 "metadata": {
  "kernelspec": {
   "display_name": "lewagon",
   "language": "python",
   "name": "python3"
  },
  "language_info": {
   "codemirror_mode": {
    "name": "ipython",
    "version": 3
   },
   "file_extension": ".py",
   "mimetype": "text/x-python",
   "name": "python",
   "nbconvert_exporter": "python",
   "pygments_lexer": "ipython3",
   "version": "3.10.6"
  }
 },
 "nbformat": 4,
 "nbformat_minor": 2
}
