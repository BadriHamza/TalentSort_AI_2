{
 "cells": [
  {
   "cell_type": "markdown",
   "id": "9ef5ec94-e086-424c-965f-da39d89cc7e7",
   "metadata": {},
   "source": [
    "## Data Analyzing"
   ]
  },
  {
   "cell_type": "code",
   "execution_count": 33,
   "id": "006cc78a-ed80-43ef-850a-c987ea541dae",
   "metadata": {},
   "outputs": [],
   "source": [
    "import pandas as pd"
   ]
  },
  {
   "cell_type": "code",
   "execution_count": 36,
   "id": "55a09f37-0820-458f-9abf-c4abaff5bf6b",
   "metadata": {},
   "outputs": [
    {
     "data": {
      "text/html": [
       "<div>\n",
       "<style scoped>\n",
       "    .dataframe tbody tr th:only-of-type {\n",
       "        vertical-align: middle;\n",
       "    }\n",
       "\n",
       "    .dataframe tbody tr th {\n",
       "        vertical-align: top;\n",
       "    }\n",
       "\n",
       "    .dataframe thead th {\n",
       "        text-align: right;\n",
       "    }\n",
       "</style>\n",
       "<table border=\"1\" class=\"dataframe\">\n",
       "  <thead>\n",
       "    <tr style=\"text-align: right;\">\n",
       "      <th></th>\n",
       "      <th>ID</th>\n",
       "      <th>Resume_str</th>\n",
       "      <th>Resume_html</th>\n",
       "      <th>Category</th>\n",
       "    </tr>\n",
       "  </thead>\n",
       "  <tbody>\n",
       "    <tr>\n",
       "      <th>0</th>\n",
       "      <td>16852973</td>\n",
       "      <td>HR ADMINISTRATOR/MARKETING ASSOCIATE\\...</td>\n",
       "      <td>&lt;div class=\"fontsize fontface vmargins hmargin...</td>\n",
       "      <td>HR</td>\n",
       "    </tr>\n",
       "    <tr>\n",
       "      <th>1</th>\n",
       "      <td>22323967</td>\n",
       "      <td>HR SPECIALIST, US HR OPERATIONS      ...</td>\n",
       "      <td>&lt;div class=\"fontsize fontface vmargins hmargin...</td>\n",
       "      <td>HR</td>\n",
       "    </tr>\n",
       "    <tr>\n",
       "      <th>2</th>\n",
       "      <td>33176873</td>\n",
       "      <td>HR DIRECTOR       Summary      Over 2...</td>\n",
       "      <td>&lt;div class=\"fontsize fontface vmargins hmargin...</td>\n",
       "      <td>HR</td>\n",
       "    </tr>\n",
       "  </tbody>\n",
       "</table>\n",
       "</div>"
      ],
      "text/plain": [
       "         ID                                         Resume_str  \\\n",
       "0  16852973           HR ADMINISTRATOR/MARKETING ASSOCIATE\\...   \n",
       "1  22323967           HR SPECIALIST, US HR OPERATIONS      ...   \n",
       "2  33176873           HR DIRECTOR       Summary      Over 2...   \n",
       "\n",
       "                                         Resume_html Category  \n",
       "0  <div class=\"fontsize fontface vmargins hmargin...       HR  \n",
       "1  <div class=\"fontsize fontface vmargins hmargin...       HR  \n",
       "2  <div class=\"fontsize fontface vmargins hmargin...       HR  "
      ]
     },
     "execution_count": 36,
     "metadata": {},
     "output_type": "execute_result"
    }
   ],
   "source": [
    "df_resume=pd.read_csv('raw_data/Resume/Resume.csv')\n",
    "df_resume.head(3)"
   ]
  },
  {
   "cell_type": "code",
   "execution_count": 42,
   "id": "9ec4ce70-f914-48eb-b5f1-35b772cce892",
   "metadata": {},
   "outputs": [
    {
     "data": {
      "text/plain": [
       "(2484, 4)"
      ]
     },
     "execution_count": 42,
     "metadata": {},
     "output_type": "execute_result"
    }
   ],
   "source": [
    "df_resume.shape"
   ]
  },
  {
   "cell_type": "code",
   "execution_count": 46,
   "id": "7bf9a2ed-3971-4f14-a31c-c23a3a5ecf33",
   "metadata": {},
   "outputs": [
    {
     "data": {
      "text/plain": [
       "'         SALES       Career Overview     During the course of my career as an IT Professional, I have developed a varied set of I.T. and business related skills.  I hold expert knowledge in applying technology to business processes resulting in a more cost effective and efficient enterprise.  My accomplishments as a major player in the successful pioneering and implementation of the \"Paperless Office\" in 33 local Virginia agencies, created a paradigm shift in the culture of how agencies currently do business.  The experience of being a road warrior leading the day to day \"hands on\" training of the user afforded me a \"real life\" work experience and invaluable insight in user training needs, challenges, acceptance and buy-in.  The knowledge I gained from the users resulted into successful problem solving, change management and implementation outcomes of enterprise management systems. This kind of knowledge and experience cannot be gained in a classroom or from a white paper.  I have a strong ability to quickly capture business rules, policies, procedures, workflow issues, functional requirements and resolve client and technical roadblocks hindering successful implementation.  I maintain a reputation of improving the work environment via technology and delivering a solution that surpasses client expectations. Strong analytical skills used in business and requirements analysis for a variety of industries. Keen problem solving skills allowing rapid assimilation and resolution of complex problems. Ability to anticipate issues, think proactive, and use critical thinking skills to plan stakeholder elicitation sessions. Ability to quickly scope training and implementation requirements of project. Able to excel in fast-paced environments, with aggressive project timeliness. Excellent problem analysis, troubleshooting, and resolution skills. Quick to identify weak links in enterprise implementation and ability to effectively find solutions. Planning Extensive team management experience covering large and small projects. Articulation of concerns in technology project planning to senior management, including the impact, readiness, and buy-in related to human factors. Familiar with general project management practices, including the use of project management software/tools. Demonstrates good organizational and delegation skills and efficient, effective management of one\\'s own and other\\'s time. Communications Skilled in building strong relationships with project stake-holders. Ability to market a project to successfully obtain Stakeholder and user buy-in. Experienced presentation skills. Works well with people. Knows how to listen, inspire, motivate, collaborate, and hold accountable, if necessary. Excellent written and oral communication skills with the ability to communicate appropriately in business and technical situations at all levels in matrix organizations. Articulation of complex issues in technology project planning to senior management, including technology impact, and human factors. Testing Working knowledge of industry standard software testing methodologies, tools, processes, and /practices. Training Results-driven, team-oriented and posses a personable demeanor and positive attitude. Professional, well organized and ability to present training to diverse population. Self-motivated, directed, and devoted. Ability in taking up new theories and concepts as well as responsibilities. Experience in statewide travel. Strong ability to recognize and accommodate various user training levels and challenges. Quickly learn new software and software training tools. Highly effective in scoping overall training needs and the needed resources of enterprise projects. Experience handling technical issues that arise before and during training sessions. Experience in technical writing such as coursework, presentations, user manuals. Technical support professional with IT background. Enjoys troubleshooting to find solutions to difficult training projects, workflow and technical issues.        Qualifications          Windows2000, Windows XP, Windows Vista, Linux, Macintosh. Microsoft Business Tools:  MS Word  Excel  PowerPoint  Visio  Camtasia  Smart-draw  Snag It  Requisite Pro  Windows NT, 2000, XP, Vista, Windows 7, 8, 8.1  Mac PC  Apple I Works  SharePoint   Proficient in AVG, Printers, PC Security systems  MS Office proficiency  Accomplished with mobile devices  Patient and diligent  Troubleshooting proficiency              Technical Skills        Skills    Experience    Total Years    Last Used    Communication Skills,     Exceptional listener and communicator who effectively conveys information verbally and in writing.    40    today    Computer/Technical Literacy    Computer-literate performer with extensive software proficiency covering wide variety of applications.    40    today    Analytical/Research Skills,    Flexible team player who thrives in environments requiring ability to effectively prioritize and juggle multiple concurrent projects.    40    today    Flexibility/Adaptability/Managing Multiple tasks    Flexible team player who thrives in environments requiring ability to effectively prioritize and juggle multiple concurrent projects.    40    today    Interpersonal Abilities.     Proven relationship-builder with interpersonal skills.     40    today    Leadership/Management Skills.    Goal-driven leader who maintains a productive climate and confidently motivates, mobilizes, and coaches employees to meet high performance standards.    40    today    Multicultural Sensitivity/Awareness.    Personable professional whose strengths include cultural sensitivity and an ability to build rapport with a diverse workforce in multicultural settings.     40    today    Planning/Organizing.    Results-driven achiever with exemplary planning and organizational skills, along with a high degree of detail orientation.    40    today    Problem-Solving/Reasoning/Creativity.     Innovative problem-solver who can generate workable solutions and resolve complaints.    40    today    Teamwork    Resourceful team player who excels at building trusting relationships with customers and colleagues.    40    today          Accomplishments     My accomplishments as a major player in the successful pioneering and implementation of the \"Paperless Office\" in 33 local Virginia agencies, created a paradigm shift in the culture of how VDSS and DSS agencies currently do business.  \\xa0          Suggested a business solution to make a policy and procedure change versus an IT development solution which proved to result in an estimated $1 million (1,000.000.00) savings for the State VDSS IT department.        Work Experience     June 2011   to   Current     Company Name   City  ,   State     Sales             March 2013   to   August 2013     Company Name   City  ,   State     Training Consultant/Business Analyst        Developed DW refresher course and new user curriculum.  Developed new versions of the DW training user manuals.  Served as liaison to user, administrator, developers and program managers, suggesting improvements to existing functionality.  Recognized the need for improvements to VDSS DW\\'s routine training techniques  Communicated the need to update training resources such as the use of curriculum development software (Articulate).  Used Microsoft Business Office Suite products and Snag It,   Conducted all training of Data Warehouse to state and local administrators.         January 2008   to   June 2008     Company Name   City  ,   State     Training Consultant/Business Analyst        Identified and documented functional requirements for the implementation of an enterprise system which incorporated HR, E-Finance, E-Pharmacy, Crisis, Case Management and Reporting.  Developed user readiness surveys, business process models, vendor selection guide and a training implementation plan beyond the assigned project\\'s Statement of Work.  Supported RFP development process.  Liaison between software vendors and stakeholder.         January 2006   to   January 2008     Company Name   City  ,   State     Training Consultant/Business Analyst        Project Lead Trainer for ChildWins (electronic case management project).  Successfully directed all aspects of training as well as solely trained a complex 13 system search application (SPIDeR) to approximately 3000 local and state staff resulting in approximately 85% increase in use of SPIDeR application.  Trained Data Warehouse statewide, (a complex reporting and statistical application), resulting in approximately 80% increase to application usage.  Suggested a business solution to make a policy and procedure change versus an IT development solution which proved to result in an estimated $1 million (1,000.000.00) savings for the State VDSS IT department.  Reduced training expenses by effectively reducing the standard training travel staff of 2 trainers to 1, meeting VDSS training goals and standards.  Developed DW curriculum in several versions to accommodate User needs.  Developed & updated multiple versions of the DW training user manuals.  Represented State VDSS by serving on various local committees.  Served as liaison to user, administrator, developers and program managers, suggesting improvements to existing functionality and training techniques.  Suggested updated training resources such as the use of curriculum development software (Articulate).  Used & excelled in technical writing skills using Microsoft Business Office Suite products, Camtasia, and Snag It, Supported SIT and UAT testing of state applications.  Conducted training of SPIDeR and Data Warehouse to state and local administrators, VDSS Help Desk and program managers in classroom, individual and onsite settings.  Identified and scheduled training locations, environment and timeframe to facilitate successful sessions.  Classroom training developed to accommodate self-guided training for posting to VDSS training website.  Conducted \"Train the Trainer\" sessions statewide supporting  a \"super user\" concept.  Lead \"Super User\" workgroups in training software, hardware installs, troubleshooting, detailed application knowledge, and the handling of business intelligence rules for transition to a state multiple search application.  SPIDeR).  Conducted workshops on topics such as \"Train the Trainer\" and \"Super Users\" for DSS staff.         January 2006   to   January 2008     Company Name   City  ,   State     Training Consultant/Business Analyst        Installation of Electronic Filing System and Reporting software, scanners, printers.  Developed training materials and IT operator manuals.  Trained over 200 employees independently.  Facilitated focus groups consisting of 15 staff members.  Analyzed agency\\'s business processes, documenting requirements and workflow in preparation for installation and training.  Collaborated with various project stake-holders.         January 2001   to   January 2006     Company Name   City  ,   State     Training Director/Business Consultant        Lead business and workflow consultant.  Director of Training for 8 traveling trainers, managing technical and non-technical training projects.  Developed coursework for various learning environments to include classroom, individual, and onsite.  Managed day to day training needs of 33 local DSS agencies and 8 traveling EZ-Filer trainers.  Developed various versions of User\\'s manual to accommodate multiple versions of EZ-Filer software.  Utilized various training techniques to accommodate various user learning levels, medically and physically challenged users.  Road Warrior, 100% travel Major contributor to the development of Long Term Care, Auxiliary Grant and State and Local Hospitalization applications Conceived and modeled the following software functions for EZ-Filer product; Reporting, Case To Do List, Worker Tasks, and Case Summary, making the product more competitive and functional.  Install hardware such as PC\\'s, Scanners, printers, Signature pads, Assisted in company\\'s marketing events Trained Voice Recognition software, Dragon Naturally Speaking 7.0.  Expertise in interpreting Local, State and Federal program policies.  Workflow specialist, created business process for the Medicaid \"Smart Card\" concept.  Maintained inventory control for technical and non-technical supplies for Ez-Filer training staff.          Education and Training     12     Buckingham County High School   City  ,   State  ,   USA     High School Diploma  :   Business            Skills     Business intelligence,   Business process,    Business solution,  \\xa0  Project concept to Project Success   Curriculum development,  \\xa0  Excellent customer service,    Data Warehouse,  \\xa0  Functional,         '"
      ]
     },
     "execution_count": 46,
     "metadata": {},
     "output_type": "execute_result"
    }
   ],
   "source": [
    "df_resume.loc[1001]['Resume_str']"
   ]
  },
  {
   "cell_type": "code",
   "execution_count": 39,
   "id": "55fb0737-d8e6-47c1-970a-082c283678f0",
   "metadata": {},
   "outputs": [
    {
     "data": {
      "text/plain": [
       "INFORMATION-TECHNOLOGY    120\n",
       "BUSINESS-DEVELOPMENT      120\n",
       "FINANCE                   118\n",
       "ADVOCATE                  118\n",
       "ACCOUNTANT                118\n",
       "ENGINEERING               118\n",
       "CHEF                      118\n",
       "AVIATION                  117\n",
       "FITNESS                   117\n",
       "SALES                     116\n",
       "BANKING                   115\n",
       "HEALTHCARE                115\n",
       "CONSULTANT                115\n",
       "CONSTRUCTION              112\n",
       "PUBLIC-RELATIONS          111\n",
       "HR                        110\n",
       "DESIGNER                  107\n",
       "ARTS                      103\n",
       "TEACHER                   102\n",
       "APPAREL                    97\n",
       "DIGITAL-MEDIA              96\n",
       "AGRICULTURE                63\n",
       "AUTOMOBILE                 36\n",
       "BPO                        22\n",
       "Name: Category, dtype: int64"
      ]
     },
     "execution_count": 39,
     "metadata": {},
     "output_type": "execute_result"
    }
   ],
   "source": [
    "df_resume['Category'].value_counts()"
   ]
  },
  {
   "cell_type": "code",
   "execution_count": 40,
   "id": "62fe3687-afa4-4806-b492-eca079f00d00",
   "metadata": {},
   "outputs": [
    {
     "data": {
      "text/html": [
       "<div>\n",
       "<style scoped>\n",
       "    .dataframe tbody tr th:only-of-type {\n",
       "        vertical-align: middle;\n",
       "    }\n",
       "\n",
       "    .dataframe tbody tr th {\n",
       "        vertical-align: top;\n",
       "    }\n",
       "\n",
       "    .dataframe thead th {\n",
       "        text-align: right;\n",
       "    }\n",
       "</style>\n",
       "<table border=\"1\" class=\"dataframe\">\n",
       "  <thead>\n",
       "    <tr style=\"text-align: right;\">\n",
       "      <th></th>\n",
       "      <th>worker_id</th>\n",
       "      <th>task_id</th>\n",
       "      <th>task_response_id</th>\n",
       "      <th>ID</th>\n",
       "      <th>Resume_str</th>\n",
       "      <th>Resume_html</th>\n",
       "      <th>What is their work experience level?</th>\n",
       "      <th>What best describes their education level?</th>\n",
       "      <th>What industry and sub-sector (most recent work) best describes this resume?</th>\n",
       "      <th>You selected \"N/A: Other Industry / Other Category\".....write in the best description (1-3 words) of what industry should be?</th>\n",
       "    </tr>\n",
       "  </thead>\n",
       "  <tbody>\n",
       "    <tr>\n",
       "      <th>0</th>\n",
       "      <td>J6TM2D4MANTG</td>\n",
       "      <td>da70f4c8-a26f-4330-993f-0c357de0225a</td>\n",
       "      <td>fc506e4e-99f9-435a-b571-bd1af0d5bcda</td>\n",
       "      <td>46514339</td>\n",
       "      <td>JOBS COORDINATOR / ESTIMATOR Professional Summ...</td>\n",
       "      <td>&lt;div class=\"fontsize fontface vmargins hmargin...</td>\n",
       "      <td>Mid-level (5-10 yr)</td>\n",
       "      <td>Some college or university: trade school, asso...</td>\n",
       "      <td>NaN</td>\n",
       "      <td>NaN</td>\n",
       "    </tr>\n",
       "    <tr>\n",
       "      <th>1</th>\n",
       "      <td>YYCA2DXN94NG</td>\n",
       "      <td>0109f1e1-2d5e-40eb-8157-7641bd3bb97c</td>\n",
       "      <td>b810e5a3-f05d-4537-80c1-36350865f222</td>\n",
       "      <td>18997135</td>\n",
       "      <td>COURT APPOINTED SPECIAL ADVOCATE Summary Finan...</td>\n",
       "      <td>&lt;div class=\"fontsize fontface vmargins hmargin...</td>\n",
       "      <td>Mid-level (5-10 yr)</td>\n",
       "      <td>Bachelor's</td>\n",
       "      <td>N/A: Other Industry / Other Category</td>\n",
       "      <td>Law</td>\n",
       "    </tr>\n",
       "    <tr>\n",
       "      <th>2</th>\n",
       "      <td>J6TM2D4MANTG</td>\n",
       "      <td>543330a3-e182-4f05-87a9-56d965a92d2c</td>\n",
       "      <td>83e9c697-647d-4baf-a0ed-00f2133a0169</td>\n",
       "      <td>12092347</td>\n",
       "      <td>SALES ASSOCIATE Professional Summary Jack of a...</td>\n",
       "      <td>&lt;div class=\"fontsize fontface vmargins hmargin...</td>\n",
       "      <td>Early career (2-5 yr)</td>\n",
       "      <td>No mention of college or post high-school educ...</td>\n",
       "      <td>Retail / Manager or Store Keeper (includes cle...</td>\n",
       "      <td>NaN</td>\n",
       "    </tr>\n",
       "  </tbody>\n",
       "</table>\n",
       "</div>"
      ],
      "text/plain": [
       "      worker_id                               task_id  \\\n",
       "0  J6TM2D4MANTG  da70f4c8-a26f-4330-993f-0c357de0225a   \n",
       "1  YYCA2DXN94NG  0109f1e1-2d5e-40eb-8157-7641bd3bb97c   \n",
       "2  J6TM2D4MANTG  543330a3-e182-4f05-87a9-56d965a92d2c   \n",
       "\n",
       "                       task_response_id        ID  \\\n",
       "0  fc506e4e-99f9-435a-b571-bd1af0d5bcda  46514339   \n",
       "1  b810e5a3-f05d-4537-80c1-36350865f222  18997135   \n",
       "2  83e9c697-647d-4baf-a0ed-00f2133a0169  12092347   \n",
       "\n",
       "                                          Resume_str  \\\n",
       "0  JOBS COORDINATOR / ESTIMATOR Professional Summ...   \n",
       "1  COURT APPOINTED SPECIAL ADVOCATE Summary Finan...   \n",
       "2  SALES ASSOCIATE Professional Summary Jack of a...   \n",
       "\n",
       "                                         Resume_html  \\\n",
       "0  <div class=\"fontsize fontface vmargins hmargin...   \n",
       "1  <div class=\"fontsize fontface vmargins hmargin...   \n",
       "2  <div class=\"fontsize fontface vmargins hmargin...   \n",
       "\n",
       "  What is their work experience level?  \\\n",
       "0                  Mid-level (5-10 yr)   \n",
       "1                  Mid-level (5-10 yr)   \n",
       "2                Early career (2-5 yr)   \n",
       "\n",
       "          What best describes their education level?  \\\n",
       "0  Some college or university: trade school, asso...   \n",
       "1                                         Bachelor's   \n",
       "2  No mention of college or post high-school educ...   \n",
       "\n",
       "  What industry and sub-sector (most recent work) best describes this resume?  \\\n",
       "0                                                NaN                            \n",
       "1               N/A: Other Industry / Other Category                            \n",
       "2  Retail / Manager or Store Keeper (includes cle...                            \n",
       "\n",
       "  You selected \"N/A: Other Industry / Other Category\".....write in the best description (1-3 words) of what industry should be?  \n",
       "0                                                NaN                                                                             \n",
       "1                                                Law                                                                             \n",
       "2                                                NaN                                                                             "
      ]
     },
     "execution_count": 40,
     "metadata": {},
     "output_type": "execute_result"
    }
   ],
   "source": [
    "df_resume_3=pd.read_csv('raw_data/Public Resume Categorization.csv')\n",
    "df_resume_3.head(3)"
   ]
  },
  {
   "cell_type": "code",
   "execution_count": 41,
   "id": "2e9eff1d-0697-4e2e-8056-d575fdda914e",
   "metadata": {},
   "outputs": [
    {
     "data": {
      "text/plain": [
       "(575, 10)"
      ]
     },
     "execution_count": 41,
     "metadata": {},
     "output_type": "execute_result"
    }
   ],
   "source": [
    "df_resume_3.shape"
   ]
  },
  {
   "cell_type": "code",
   "execution_count": 38,
   "id": "affafa28-3f93-4388-81ae-78575ada7013",
   "metadata": {},
   "outputs": [
    {
     "data": {
      "text/plain": [
       "0                                                    NaN\n",
       "1                   N/A: Other Industry / Other Category\n",
       "2      Retail / Manager or Store Keeper (includes cle...\n",
       "3                   N/A: Other Industry / Other Category\n",
       "4      Retail / Manager or Store Keeper (includes cle...\n",
       "                             ...                        \n",
       "570                      Education / Teacher + Professor\n",
       "571                           Education / Administrative\n",
       "572                   Automotive / Maintenance + Service\n",
       "573    Communications + Marketing / Maintenance + Ser...\n",
       "574                                    Education / Other\n",
       "Name: What industry and sub-sector (most recent work) best describes this resume?, Length: 575, dtype: object"
      ]
     },
     "execution_count": 38,
     "metadata": {},
     "output_type": "execute_result"
    }
   ],
   "source": [
    "df_resume_3[\"What industry and sub-sector (most recent work) best describes this resume?\"]"
   ]
  }
 ],
 "metadata": {
  "kernelspec": {
   "display_name": "Python 3 (ipykernel)",
   "language": "python",
   "name": "python3"
  },
  "language_info": {
   "codemirror_mode": {
    "name": "ipython",
    "version": 3
   },
   "file_extension": ".py",
   "mimetype": "text/x-python",
   "name": "python",
   "nbconvert_exporter": "python",
   "pygments_lexer": "ipython3",
   "version": "3.10.6"
  }
 },
 "nbformat": 4,
 "nbformat_minor": 5
}
